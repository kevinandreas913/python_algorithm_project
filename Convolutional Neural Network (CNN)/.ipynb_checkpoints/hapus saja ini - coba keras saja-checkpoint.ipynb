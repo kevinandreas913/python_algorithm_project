{
 "cells": [
  {
   "cell_type": "code",
   "execution_count": 1,
   "id": "5bc5aa9e-99d1-4f83-aa81-8bfe3586b2bb",
   "metadata": {},
   "outputs": [
    {
     "name": "stderr",
     "output_type": "stream",
     "text": [
      "C:\\Users\\Acer\\anaconda3\\Lib\\site-packages\\keras\\src\\saving\\saving_lib.py:757: UserWarning: Skipping variable loading for optimizer 'rmsprop', because it has 12 variables whereas the saved optimizer has 22 variables. \n",
      "  saveable.load_own_variables(weights_store.get(inner_path))\n"
     ]
    },
    {
     "name": "stdout",
     "output_type": "stream",
     "text": [
      "\u001b[1m1/1\u001b[0m \u001b[32m━━━━━━━━━━━━━━━━━━━━\u001b[0m\u001b[37m\u001b[0m \u001b[1m1s\u001b[0m 627ms/step\n",
      "Prediksi kelas: nontumor\n"
     ]
    }
   ],
   "source": [
    "from keras.preprocessing import image\n",
    "import numpy as np\n",
    "from keras.models import load_model\n",
    "\n",
    "# Muat gambar baru untuk prediksi\n",
    "img_path = 'kanker/Testing/notumor/Te-no_0087.jpg'\n",
    "img = image.load_img(img_path, target_size=(128, 128)) \n",
    "img_array = image.img_to_array(img) \n",
    "img_array = np.expand_dims(img_array, axis=0)  # Menambah dimensi batch\n",
    "img_array /= 255.0  \n",
    "modelkanker = load_model('finalized_model_kanker_otak.keras')  \n",
    "\n",
    "prediction = modelkanker.predict(img_array)\n",
    "\n",
    "# Ambil kelas dengan probabilitas tertinggi\n",
    "predicted_class = np.argmax(prediction)  # Ambil indeks kelas dengan probabilitas tertinggi\n",
    "class_names = ['glioma', 'nontumor', 'nontumor', 'pituitary']\n",
    "\n",
    "# Menampilkan prediksi\n",
    "print(f\"Prediksi kelas: {class_names[predicted_class]}\")\n"
   ]
  },
  {
   "cell_type": "code",
   "execution_count": null,
   "id": "b00192ad-e51c-4769-a64b-6924a7ab9c66",
   "metadata": {},
   "outputs": [],
   "source": []
  }
 ],
 "metadata": {
  "kernelspec": {
   "display_name": "Python 3 (ipykernel)",
   "language": "python",
   "name": "python3"
  },
  "language_info": {
   "codemirror_mode": {
    "name": "ipython",
    "version": 3
   },
   "file_extension": ".py",
   "mimetype": "text/x-python",
   "name": "python",
   "nbconvert_exporter": "python",
   "pygments_lexer": "ipython3",
   "version": "3.12.7"
  }
 },
 "nbformat": 4,
 "nbformat_minor": 5
}
