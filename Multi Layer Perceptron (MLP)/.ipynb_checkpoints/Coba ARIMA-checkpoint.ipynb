{
 "cells": [
  {
   "cell_type": "markdown",
   "id": "8189e835",
   "metadata": {},
   "source": [
    "COBA ARIMA"
   ]
  },
  {
   "cell_type": "code",
   "execution_count": 1,
   "id": "7b7a7008",
   "metadata": {},
   "outputs": [
    {
     "name": "stdout",
     "output_type": "stream",
     "text": [
      "File tidak ditemukan\n"
     ]
    }
   ],
   "source": [
    "import numpy as np # linear algebra\n",
    "import pandas as pd # data processing, CSV file I/O (e.g. pd.read_csv)\n",
    "import matplotlib.pyplot as plt\n",
    "\n",
    "# Input data files are available in the read-only \"../input/\" directory\n",
    "# For example, running this (by clicking run or pressing Shift+Enter) will list all files under the input directory\n",
    "\n",
    "try:\n",
    "    df1 = pd.read_csv(\"penjualan.csv\")\n",
    "    print(\"Pembacaan file berhasil\")\n",
    "except FileNotFoundError:\n",
    "    print(\"File tidak ditemukan\")\n",
    "    "
   ]
  },
  {
   "cell_type": "code",
   "execution_count": null,
   "id": "54c38550",
   "metadata": {},
   "outputs": [],
   "source": []
  }
 ],
 "metadata": {
  "kernelspec": {
   "display_name": "Python 3 (ipykernel)",
   "language": "python",
   "name": "python3"
  },
  "language_info": {
   "codemirror_mode": {
    "name": "ipython",
    "version": 3
   },
   "file_extension": ".py",
   "mimetype": "text/x-python",
   "name": "python",
   "nbconvert_exporter": "python",
   "pygments_lexer": "ipython3",
   "version": "3.11.4"
  }
 },
 "nbformat": 4,
 "nbformat_minor": 5
}
