{
 "cells": [
  {
   "cell_type": "markdown",
   "id": "53b1bb9d",
   "metadata": {},
   "source": [
    "# Random Forest \n",
    "### (untuk masuk ke bagian ini, lebih baik pelajari decision tree)\n",
    "\n",
    "##### Random forest adalah algoritma machine learning. Algoritma ini hampir sama dengan decision tree. Perbedaannya pada decision tree, pohon yang dibangun hanya satu, sedangkan pada random forest diciptakan beberapa pohon. Setiap pohon saling mengeluarkan hasilnya sendiri. Hasil yang diambil adalah hasil yang paling banyak muncul."
   ]
  },
  {
   "cell_type": "markdown",
   "id": "2376c468",
   "metadata": {},
   "source": [
    "Bayangkan anda berada di sebuah hutan. Hutan ini adalah hutan ajaib, masing-masing pohon memiliki kemampuan spiritual sendiri seperti membaca suhu dan membaca cuaca. \n",
    "- Ketika anda ingin keluar anda bertanya kepada hutan ini \"bagaimana cuaca hari ini?\". \n",
    "- Pohon dengan kemampuan membaca cuaca akan membaca cuaca, kemudian masing-masing pohon mengeluarkan hasil, tetapi karena hasil yang berbeda maka pohon ini berdiskusi terlebih dahulu. Pohon A mengatakan hari ini hujan, Pohon B mengatakan hari ini cerah, Pohon C mengatakan hari ini hujan, Pohon D mengatakan hari ini mendung. \n",
    "- Karena banyak pohon yang meramal bahwa hari ini akan hujan, maka keputusan akhir adalah hari ini akan hujan.\n",
    "- Ketua pohon akan memberi tahu anda bahwa \"hari ini hujan\".\n",
    "\n",
    "begitupun ketika anda bertanya \"bagaimana suhu hari ini?\", pohon dengan kemampuan membaca suhu akan membaca dan berdiskusi kemudian menyampaikan kepada anda suhu hari ini."
   ]
  },
  {
   "cell_type": "markdown",
   "id": "38884ab9",
   "metadata": {},
   "source": [
    "# 1. Penggunaan file"
   ]
  },
  {
   "cell_type": "code",
   "execution_count": 1,
   "id": "4959303e",
   "metadata": {},
   "outputs": [
    {
     "name": "stdout",
     "output_type": "stream",
     "text": [
      "File berhasil dibaca\n",
      "    ID  mesin  bangku  penggerak    label\n",
      "0    1      0       4          0    sedan\n",
      "1    2      0       2          0    sedan\n",
      "2    3      0       8          1  minibus\n",
      "3    4      1       6          0  minibus\n",
      "4    5      0       5          1  minibus\n",
      "5    6      1       8          1  minibus\n",
      "6    7      1       8          1  minibus\n",
      "7    8      0       4          0    sedan\n",
      "8    9      1       7          1  minibus\n",
      "9   10      0       4          0    sedan\n",
      "10  11      0       2          0    sedan\n",
      "11  12      1       6          1  minibus\n",
      "12  13      1       8          0  minibus\n",
      "13  14      0       4          0    sedan\n",
      "14  15      1       2          0    sedan\n",
      "15  16      0       4          0    sedan\n",
      "16  17      0       8          1  minibus\n",
      "17  18      0       4          0    sedan\n",
      "18  19      1       8          1  minibus\n",
      "19  20      1       8          1  minibus\n",
      "20  21      0       4          0    sedan\n",
      "21  22      0       4          0  minibus\n",
      "22  23      1       8          1  minibus\n",
      "23  24      0       4          0    sedan\n",
      "24  25      0       5          1  minibus\n",
      "25  26      0       4          0  minibus\n",
      "26  27      1       8          1  minibus\n",
      "27  28      0       4          0    sedan\n",
      "28  29      0       7          1  minibus\n",
      "29  30      0       4          0    sedan\n",
      "30  31      0       4          0    sedan\n",
      "31  32      0       2          0    sedan\n",
      "32  33      0       8          1  minibus\n",
      "33  34      1       6          0  minibus\n",
      "34  35      0       5          1  minibus\n",
      "35  36      1       8          1  minibus\n",
      "36  37      1       4          1  minibus\n",
      "37  38      0       4          0    sedan\n",
      "38  39      1       5          1  minibus\n",
      "39  40      0       4          0    sedan\n"
     ]
    }
   ],
   "source": [
    "import pandas as pd\n",
    "import sklearn.model_selection as ms\n",
    "\n",
    "# apabila ingin memasukkan file sendiri (nama file lain)\n",
    "# try:\n",
    "#     file_name = input(\"Masukkan nama file CSV: \")\n",
    "#     df1 = pd.read_csv(file_name, sep=';')\n",
    "#     print(\"Pembacaan file berhasil\")\n",
    "# except FileNotFoundError:\n",
    "#     print(\"File tidak berhasil dibaca\")\n",
    "\n",
    "try:\n",
    "    df1 = pd.read_csv(\"decisiontree1.csv\", sep=\";\")\n",
    "    print(\"File berhasil dibaca\")\n",
    "except FileNotFoundError:\n",
    "    print(\"File tidak berhasil dibaca\")\n",
    "\n",
    "# encoding, untuk mengubah kode, dikarekan pada file excel kolom mesin terdapat bensin dan diesel, maka bensin inisialisasi menjadi 0 dan diesel menjadi 1\n",
    "# selain itu perlu encoding untuk kolom penggerak dengan data depan sebagai 0 dan belakang sebagai 1\n",
    "encoding = {\"mesin\": {\"bensin\": 0, \"diesel\": 1},\n",
    "           \"penggerak\": {\"depan\":0, \"belakang\":1}}\n",
    "\n",
    "# replace untuk menyimpan dan mengubah sesuai encoding yang kita buat\n",
    "df1.replace(encoding,inplace=True)\n",
    "\n",
    "# berikut adalah contoh hasil setelah di encoding\n",
    "print(df1)"
   ]
  },
  {
   "cell_type": "code",
   "execution_count": 2,
   "id": "29045ec0",
   "metadata": {},
   "outputs": [],
   "source": [
    "# X = df1.drop(['ID','label'], axis=1) artinya kita akan drop kolom ID dan label karena kolom ini tidak akan kita pakai sebagai X\n",
    "# y = df1['label'] dikarekan kita akan menyimpan kolom label ke dalam y\n",
    "X = df1.drop(['ID','label'], axis=1)\n",
    "y = df1['label']\n",
    "\n",
    "# print(\"\"\"X:\n",
    "# {}\"\"\" .format(X))\n",
    "\n",
    "# print(\"\"\"y:\n",
    "# {}\"\"\" .format(y))"
   ]
  },
  {
   "cell_type": "markdown",
   "id": "8e59f1e8",
   "metadata": {},
   "source": [
    "# 2. Melakukan algoritma Random Forest"
   ]
  },
  {
   "cell_type": "code",
   "execution_count": 3,
   "id": "03a353fd",
   "metadata": {},
   "outputs": [
    {
     "data": {
      "text/html": [
       "<style>#sk-container-id-1 {color: black;}#sk-container-id-1 pre{padding: 0;}#sk-container-id-1 div.sk-toggleable {background-color: white;}#sk-container-id-1 label.sk-toggleable__label {cursor: pointer;display: block;width: 100%;margin-bottom: 0;padding: 0.3em;box-sizing: border-box;text-align: center;}#sk-container-id-1 label.sk-toggleable__label-arrow:before {content: \"▸\";float: left;margin-right: 0.25em;color: #696969;}#sk-container-id-1 label.sk-toggleable__label-arrow:hover:before {color: black;}#sk-container-id-1 div.sk-estimator:hover label.sk-toggleable__label-arrow:before {color: black;}#sk-container-id-1 div.sk-toggleable__content {max-height: 0;max-width: 0;overflow: hidden;text-align: left;background-color: #f0f8ff;}#sk-container-id-1 div.sk-toggleable__content pre {margin: 0.2em;color: black;border-radius: 0.25em;background-color: #f0f8ff;}#sk-container-id-1 input.sk-toggleable__control:checked~div.sk-toggleable__content {max-height: 200px;max-width: 100%;overflow: auto;}#sk-container-id-1 input.sk-toggleable__control:checked~label.sk-toggleable__label-arrow:before {content: \"▾\";}#sk-container-id-1 div.sk-estimator input.sk-toggleable__control:checked~label.sk-toggleable__label {background-color: #d4ebff;}#sk-container-id-1 div.sk-label input.sk-toggleable__control:checked~label.sk-toggleable__label {background-color: #d4ebff;}#sk-container-id-1 input.sk-hidden--visually {border: 0;clip: rect(1px 1px 1px 1px);clip: rect(1px, 1px, 1px, 1px);height: 1px;margin: -1px;overflow: hidden;padding: 0;position: absolute;width: 1px;}#sk-container-id-1 div.sk-estimator {font-family: monospace;background-color: #f0f8ff;border: 1px dotted black;border-radius: 0.25em;box-sizing: border-box;margin-bottom: 0.5em;}#sk-container-id-1 div.sk-estimator:hover {background-color: #d4ebff;}#sk-container-id-1 div.sk-parallel-item::after {content: \"\";width: 100%;border-bottom: 1px solid gray;flex-grow: 1;}#sk-container-id-1 div.sk-label:hover label.sk-toggleable__label {background-color: #d4ebff;}#sk-container-id-1 div.sk-serial::before {content: \"\";position: absolute;border-left: 1px solid gray;box-sizing: border-box;top: 0;bottom: 0;left: 50%;z-index: 0;}#sk-container-id-1 div.sk-serial {display: flex;flex-direction: column;align-items: center;background-color: white;padding-right: 0.2em;padding-left: 0.2em;position: relative;}#sk-container-id-1 div.sk-item {position: relative;z-index: 1;}#sk-container-id-1 div.sk-parallel {display: flex;align-items: stretch;justify-content: center;background-color: white;position: relative;}#sk-container-id-1 div.sk-item::before, #sk-container-id-1 div.sk-parallel-item::before {content: \"\";position: absolute;border-left: 1px solid gray;box-sizing: border-box;top: 0;bottom: 0;left: 50%;z-index: -1;}#sk-container-id-1 div.sk-parallel-item {display: flex;flex-direction: column;z-index: 1;position: relative;background-color: white;}#sk-container-id-1 div.sk-parallel-item:first-child::after {align-self: flex-end;width: 50%;}#sk-container-id-1 div.sk-parallel-item:last-child::after {align-self: flex-start;width: 50%;}#sk-container-id-1 div.sk-parallel-item:only-child::after {width: 0;}#sk-container-id-1 div.sk-dashed-wrapped {border: 1px dashed gray;margin: 0 0.4em 0.5em 0.4em;box-sizing: border-box;padding-bottom: 0.4em;background-color: white;}#sk-container-id-1 div.sk-label label {font-family: monospace;font-weight: bold;display: inline-block;line-height: 1.2em;}#sk-container-id-1 div.sk-label-container {text-align: center;}#sk-container-id-1 div.sk-container {/* jupyter's `normalize.less` sets `[hidden] { display: none; }` but bootstrap.min.css set `[hidden] { display: none !important; }` so we also need the `!important` here to be able to override the default hidden behavior on the sphinx rendered scikit-learn.org. See: https://github.com/scikit-learn/scikit-learn/issues/21755 */display: inline-block !important;position: relative;}#sk-container-id-1 div.sk-text-repr-fallback {display: none;}</style><div id=\"sk-container-id-1\" class=\"sk-top-container\"><div class=\"sk-text-repr-fallback\"><pre>RandomForestClassifier()</pre><b>In a Jupyter environment, please rerun this cell to show the HTML representation or trust the notebook. <br />On GitHub, the HTML representation is unable to render, please try loading this page with nbviewer.org.</b></div><div class=\"sk-container\" hidden><div class=\"sk-item\"><div class=\"sk-estimator sk-toggleable\"><input class=\"sk-toggleable__control sk-hidden--visually\" id=\"sk-estimator-id-1\" type=\"checkbox\" checked><label for=\"sk-estimator-id-1\" class=\"sk-toggleable__label sk-toggleable__label-arrow\">RandomForestClassifier</label><div class=\"sk-toggleable__content\"><pre>RandomForestClassifier()</pre></div></div></div></div></div>"
      ],
      "text/plain": [
       "RandomForestClassifier()"
      ]
     },
     "execution_count": 3,
     "metadata": {},
     "output_type": "execute_result"
    }
   ],
   "source": [
    "import sklearn.ensemble as ens\n",
    "\n",
    "# rf = ens.RandomForestClassifier(n_estimators=100) digunakan untuk membuat banyak pohon pada random forest\n",
    "rf = ens.RandomForestClassifier(n_estimators=100)\n",
    "X_train, X_test, y_train, y_test = ms.train_test_split(X, y, test_size=0.2)\n",
    "\n",
    "# latih model rf dengan fungsi fit\n",
    "rf.fit(X_train, y_train)"
   ]
  },
  {
   "cell_type": "code",
   "execution_count": 4,
   "id": "bc707739",
   "metadata": {},
   "outputs": [
    {
     "name": "stdout",
     "output_type": "stream",
     "text": [
      "{'bootstrap': True, 'ccp_alpha': 0.0, 'class_weight': None, 'criterion': 'gini', 'max_depth': None, 'max_features': 'sqrt', 'max_leaf_nodes': None, 'max_samples': None, 'min_impurity_decrease': 0.0, 'min_samples_leaf': 1, 'min_samples_split': 2, 'min_weight_fraction_leaf': 0.0, 'n_estimators': 100, 'n_jobs': None, 'oob_score': False, 'random_state': None, 'verbose': 0, 'warm_start': False}\n"
     ]
    }
   ],
   "source": [
    "# untuk melihat parameter yang terkandung dalam pelatihan model rf.fit(X_train, y_train)\n",
    "print(rf.get_params())"
   ]
  },
  {
   "cell_type": "code",
   "execution_count": 5,
   "id": "0f0293c2",
   "metadata": {},
   "outputs": [
    {
     "name": "stdout",
     "output_type": "stream",
     "text": [
      "['sedan' 'sedan' 'sedan' 'minibus' 'minibus' 'minibus' 'sedan' 'minibus']\n"
     ]
    }
   ],
   "source": [
    "y_prediksi = rf.predict(X_test)\n",
    "print(y_prediksi)"
   ]
  },
  {
   "cell_type": "markdown",
   "id": "d28597fd",
   "metadata": {},
   "source": [
    "# 3. Memeriksa seberapa akurat Random Forest yang telah dibuat"
   ]
  },
  {
   "cell_type": "code",
   "execution_count": 6,
   "id": "4649235e",
   "metadata": {},
   "outputs": [
    {
     "name": "stdout",
     "output_type": "stream",
     "text": [
      "1.0\n"
     ]
    }
   ],
   "source": [
    "# mengukur seberapa sering model prediksi benar dari total prediksi yang dilakukan\n",
    "import sklearn.metrics as met\n",
    "akurasi = met.accuracy_score(y_test, y_prediksi)\n",
    "print(akurasi)"
   ]
  },
  {
   "cell_type": "code",
   "execution_count": 7,
   "id": "bd2ebdb9",
   "metadata": {},
   "outputs": [
    {
     "name": "stdout",
     "output_type": "stream",
     "text": [
      "[0.17759954 0.44768262 0.37471785]\n"
     ]
    }
   ],
   "source": [
    "# bertujuan memberi tahu pentingnya setiap fitur dalam membuat prediksi (dalam kasus ini fitur terdapat mesin, bangku, penggerak)\n",
    "score = rf.feature_importances_\n",
    "print(score)"
   ]
  }
 ],
 "metadata": {
  "kernelspec": {
   "display_name": "Python 3 (ipykernel)",
   "language": "python",
   "name": "python3"
  },
  "language_info": {
   "codemirror_mode": {
    "name": "ipython",
    "version": 3
   },
   "file_extension": ".py",
   "mimetype": "text/x-python",
   "name": "python",
   "nbconvert_exporter": "python",
   "pygments_lexer": "ipython3",
   "version": "3.12.7"
  }
 },
 "nbformat": 4,
 "nbformat_minor": 5
}
