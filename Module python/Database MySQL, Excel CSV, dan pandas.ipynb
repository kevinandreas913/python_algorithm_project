{
 "cells": [
  {
   "cell_type": "markdown",
   "id": "f999601d",
   "metadata": {},
   "source": [
    "# Penggunaan MySQL dan pandas\n",
    "#### Pendukung pembelajaran python dalam mengelolah data dari MySQL"
   ]
  },
  {
   "cell_type": "markdown",
   "id": "e6ca9f9f",
   "metadata": {},
   "source": [
    "Dalam pemograman, tentu kita harus memiliki tempat penyimpanan data. Data dalam AI ini digunakan sebagai dasar pembelajaran, proses pembelajaran, hingga menyimpan hasil dari pembelajaran.\n",
    "\n",
    "Tempat untuk menyimpan data-data tersebut dapat dikatakan sebagai database. Database pada pemograman dapat berbagai macam, dari yang paling sederhana seperti excel, microsoft SQL, MySQL, dan lain-lain.\n",
    "\n",
    "Pada materi ini kita akan mempelajari mengenai cara penggunaan database dari MySQL dengan bahasa pemograman python.Hal penting yang perlu disiapkan sebelum pembelajaran berlangsung adalah MySQL yang dapat di download dan tersedia secara gratis.\n",
    "\n",
    "Mari kita mulai pembelajarannya!!"
   ]
  },
  {
   "cell_type": "markdown",
   "id": "7797baa4",
   "metadata": {},
   "source": [
    "# 1. Cek apakah komputer sudah terkoneksi dengan database"
   ]
  },
  {
   "cell_type": "code",
   "execution_count": 1,
   "id": "994a341c",
   "metadata": {},
   "outputs": [
    {
     "name": "stdout",
     "output_type": "stream",
     "text": [
      "Berhasil terhubung ke MySQL Server\n"
     ]
    }
   ],
   "source": [
    "import mysql.connector\n",
    "\n",
    "db = mysql.connector.connect(\n",
    "    host=\"localhost\",\n",
    "    user=\"root\",\n",
    "    passwd=\"\"\n",
    "    )\n",
    "\n",
    "if db.is_connected():\n",
    "    print(\"Berhasil terhubung ke MySQL Server\")"
   ]
  },
  {
   "cell_type": "markdown",
   "id": "af52c3d6",
   "metadata": {},
   "source": [
    "# 2. Buat database dan tabel dengan python"
   ]
  },
  {
   "cell_type": "code",
   "execution_count": null,
   "id": "e807db9d",
   "metadata": {},
   "outputs": [],
   "source": [
    "db = mysql.connector.connect(\n",
    "    host=\"localhost\",\n",
    "    user = \"root\",\n",
    "    passwd = \"\"\n",
    "    )\n",
    "\n",
    "cursor = db.cursor()\n",
    "cursor.execute(\"CREATE DATABASE IF NOT EXISTS db_modulkoneksiAI;\")\n",
    "\n",
    "print(\"database berhasil dibuat\")"
   ]
  },
  {
   "cell_type": "code",
   "execution_count": 2,
   "id": "027a2300",
   "metadata": {},
   "outputs": [
    {
     "name": "stdout",
     "output_type": "stream",
     "text": [
      "tabel berhasil dibuat\n"
     ]
    }
   ],
   "source": [
    "db = mysql.connector.connect(\n",
    "    host=\"localhost\",\n",
    "    user = \"root\",\n",
    "    passwd = \"\",\n",
    "    database = \"db_modulkoneksiAI\"\n",
    "    )\n",
    "\n",
    "cursor = db.cursor()\n",
    "sql = \"\"\" CREATE TABLE tbkendaraan (\n",
    "    Kode_id INT AUTO_INCREMENT PRIMARY KEY,\n",
    "    Mesin VARCHAR(255),\n",
    "    Bangku INT,\n",
    "    Penggerak VARCHAR(255),\n",
    "    Label VARCHAR(255)\n",
    "    )\"\"\"\n",
    "\n",
    "\n",
    "cursor.execute(sql)\n",
    "\n",
    "print(\"tabel berhasil dibuat\")"
   ]
  },
  {
   "cell_type": "markdown",
   "id": "40cf7740",
   "metadata": {},
   "source": [
    "# 3. Masukkan data ke database MySQL"
   ]
  },
  {
   "cell_type": "markdown",
   "id": "5c2c8aac",
   "metadata": {},
   "source": [
    "#### 1) input data seccara manual"
   ]
  },
  {
   "cell_type": "code",
   "execution_count": 8,
   "id": "f7c2e05d",
   "metadata": {},
   "outputs": [
    {
     "name": "stdout",
     "output_type": "stream",
     "text": [
      "3 data ditambahkan\n"
     ]
    }
   ],
   "source": [
    "db = mysql.connector.connect(\n",
    "    host=\"localhost\",\n",
    "    user = \"root\",\n",
    "    passwd = \"\",\n",
    "    database = \"db_modulkoneksiAI\"\n",
    "    )\n",
    "\n",
    "cursor = db.cursor()\n",
    "sql = \"INSERT INTO tbkendaraan (Mesin, Bangku, Penggerak, Label)  VALUES (%s, %s, %s, %s)\"\n",
    "values = [\n",
    "    (\"bensin\", 4, \"depan\", \"sedan\"),\n",
    "    (\"bensin\", 4, \"depan\", \"sedan\"),\n",
    "    (\"bensin\", 8, \"belakang\", \"minibus\"),\n",
    "]\n",
    "\n",
    "for val in values:\n",
    "    cursor.execute(sql, val)\n",
    "    db.commit()\n",
    "\n",
    "print(\"{} data ditambahkan\".format(len(values)))"
   ]
  },
  {
   "cell_type": "markdown",
   "id": "bcda2362",
   "metadata": {},
   "source": [
    "#### 2) input melalui file excel dalam format file csv"
   ]
  },
  {
   "cell_type": "code",
   "execution_count": 9,
   "id": "b2be48f8",
   "metadata": {
    "scrolled": false
   },
   "outputs": [
    {
     "name": "stdout",
     "output_type": "stream",
     "text": [
      "Berhasil membaca file CSV\n",
      "Data dari file CSV berhasil diimport ke tabel tbkendaraan\n"
     ]
    }
   ],
   "source": [
    "import pandas as pd\n",
    "try:\n",
    "    file = 'datakendaraan.csv'\n",
    "    df = pd.read_csv(file)\n",
    "    print(\"Berhasil membaca file CSV\")\n",
    "except FileNotFoundError:\n",
    "    print(\"Gagal membaca: File tidak ditemukan\")\n",
    "    df = None\n",
    "except Exception as e:\n",
    "    print(f\"Gagal membaca: {e}\")\n",
    "    df = None\n",
    "\n",
    "# Memasukkan data dari DataFrame ke tabel MySQL jika pembacaan file berhasil\n",
    "if df is not None:\n",
    "    # Memastikan kolom sesuai dengan yang ada di database\n",
    "    if {'mesin', 'bangku', 'penggerak', 'label'}.issubset(df.columns.str.lower()):\n",
    "        for i, row in df.iterrows():\n",
    "            sql_insert_csv = \"INSERT INTO tbkendaraan (Mesin, Bangku, Penggerak, Label) VALUES (%s, %s, %s, %s)\"\n",
    "            cursor.execute(sql_insert_csv, (row['mesin'], row['bangku'], row['penggerak'], row['label']))\n",
    "        db.commit()\n",
    "        print(\"Data dari file CSV berhasil diimport ke tabel tbkendaraan\")\n",
    "    else:\n",
    "        print(\"Kolom dalam file CSV tidak sesuai dengan yang diharapkan\")\n",
    "else:\n",
    "    print(\"Tidak ada data yang diimport karena pembacaan file gagal atau kolom tidak sesuai\")"
   ]
  },
  {
   "cell_type": "markdown",
   "id": "18b29e27",
   "metadata": {},
   "source": [
    "# 4. Pengambilan data dari MySQL menggunakan library pandas"
   ]
  },
  {
   "cell_type": "code",
   "execution_count": 15,
   "id": "f3c56a74",
   "metadata": {},
   "outputs": [
    {
     "name": "stdout",
     "output_type": "stream",
     "text": [
      "Pengambilan data berhasil\n",
      "Data dari database adalah:\n"
     ]
    },
    {
     "data": {
      "text/html": [
       "<div>\n",
       "<style scoped>\n",
       "    .dataframe tbody tr th:only-of-type {\n",
       "        vertical-align: middle;\n",
       "    }\n",
       "\n",
       "    .dataframe tbody tr th {\n",
       "        vertical-align: top;\n",
       "    }\n",
       "\n",
       "    .dataframe thead th {\n",
       "        text-align: right;\n",
       "    }\n",
       "</style>\n",
       "<table border=\"1\" class=\"dataframe\">\n",
       "  <thead>\n",
       "    <tr style=\"text-align: right;\">\n",
       "      <th></th>\n",
       "      <th>Kode_id</th>\n",
       "      <th>Mesin</th>\n",
       "      <th>Bangku</th>\n",
       "      <th>Penggerak</th>\n",
       "      <th>Label</th>\n",
       "    </tr>\n",
       "  </thead>\n",
       "  <tbody>\n",
       "    <tr>\n",
       "      <th>0</th>\n",
       "      <td>1</td>\n",
       "      <td>bensin</td>\n",
       "      <td>4</td>\n",
       "      <td>depan</td>\n",
       "      <td>sedan</td>\n",
       "    </tr>\n",
       "    <tr>\n",
       "      <th>1</th>\n",
       "      <td>2</td>\n",
       "      <td>bensin</td>\n",
       "      <td>4</td>\n",
       "      <td>depan</td>\n",
       "      <td>sedan</td>\n",
       "    </tr>\n",
       "    <tr>\n",
       "      <th>2</th>\n",
       "      <td>3</td>\n",
       "      <td>bensin</td>\n",
       "      <td>8</td>\n",
       "      <td>belakang</td>\n",
       "      <td>minibus</td>\n",
       "    </tr>\n",
       "    <tr>\n",
       "      <th>3</th>\n",
       "      <td>4</td>\n",
       "      <td>bensin</td>\n",
       "      <td>4</td>\n",
       "      <td>depan</td>\n",
       "      <td>sedan</td>\n",
       "    </tr>\n",
       "    <tr>\n",
       "      <th>4</th>\n",
       "      <td>5</td>\n",
       "      <td>bensin</td>\n",
       "      <td>2</td>\n",
       "      <td>depan</td>\n",
       "      <td>sedan</td>\n",
       "    </tr>\n",
       "    <tr>\n",
       "      <th>...</th>\n",
       "      <td>...</td>\n",
       "      <td>...</td>\n",
       "      <td>...</td>\n",
       "      <td>...</td>\n",
       "      <td>...</td>\n",
       "    </tr>\n",
       "    <tr>\n",
       "      <th>81</th>\n",
       "      <td>82</td>\n",
       "      <td>diesel</td>\n",
       "      <td>8</td>\n",
       "      <td>belakang</td>\n",
       "      <td>minibus</td>\n",
       "    </tr>\n",
       "    <tr>\n",
       "      <th>82</th>\n",
       "      <td>83</td>\n",
       "      <td>diesel</td>\n",
       "      <td>4</td>\n",
       "      <td>belakang</td>\n",
       "      <td>minibus</td>\n",
       "    </tr>\n",
       "    <tr>\n",
       "      <th>83</th>\n",
       "      <td>84</td>\n",
       "      <td>bensin</td>\n",
       "      <td>4</td>\n",
       "      <td>depan</td>\n",
       "      <td>sedan</td>\n",
       "    </tr>\n",
       "    <tr>\n",
       "      <th>84</th>\n",
       "      <td>85</td>\n",
       "      <td>diesel</td>\n",
       "      <td>5</td>\n",
       "      <td>belakang</td>\n",
       "      <td>minibus</td>\n",
       "    </tr>\n",
       "    <tr>\n",
       "      <th>85</th>\n",
       "      <td>86</td>\n",
       "      <td>bensin</td>\n",
       "      <td>4</td>\n",
       "      <td>depan</td>\n",
       "      <td>sedan</td>\n",
       "    </tr>\n",
       "  </tbody>\n",
       "</table>\n",
       "<p>86 rows × 5 columns</p>\n",
       "</div>"
      ],
      "text/plain": [
       "    Kode_id   Mesin  Bangku Penggerak    Label\n",
       "0         1  bensin       4     depan    sedan\n",
       "1         2  bensin       4     depan    sedan\n",
       "2         3  bensin       8  belakang  minibus\n",
       "3         4  bensin       4     depan    sedan\n",
       "4         5  bensin       2     depan    sedan\n",
       "..      ...     ...     ...       ...      ...\n",
       "81       82  diesel       8  belakang  minibus\n",
       "82       83  diesel       4  belakang  minibus\n",
       "83       84  bensin       4     depan    sedan\n",
       "84       85  diesel       5  belakang  minibus\n",
       "85       86  bensin       4     depan    sedan\n",
       "\n",
       "[86 rows x 5 columns]"
      ]
     },
     "metadata": {},
     "output_type": "display_data"
    }
   ],
   "source": [
    "from sqlalchemy import create_engine\n",
    "import pandas as pd\n",
    "\n",
    "try:\n",
    "    # Query untuk mengambil semua data dari tabel tbkendaraan\n",
    "    sql_query = \"SELECT * FROM tbkendaraan\"\n",
    "    cursor.execute(sql_query)\n",
    "    result = cursor.fetchall()\n",
    "    \n",
    "    # Mengonversi hasil query menjadi DataFrame\n",
    "    df = pd.DataFrame(result, columns=['Kode_id', 'Mesin', 'Bangku', 'Penggerak', 'Label'])\n",
    "    print(\"Pengambilan data berhasil\")\n",
    "    print(\"Data dari database adalah:\")\n",
    "    display(df)\n",
    "except Exception as e:\n",
    "    print(f\"Pengambilan data gagal: {e}\")"
   ]
  },
  {
   "cell_type": "code",
   "execution_count": null,
   "id": "fae9cf0a",
   "metadata": {},
   "outputs": [],
   "source": []
  }
 ],
 "metadata": {
  "kernelspec": {
   "display_name": "Python 3 (ipykernel)",
   "language": "python",
   "name": "python3"
  },
  "language_info": {
   "codemirror_mode": {
    "name": "ipython",
    "version": 3
   },
   "file_extension": ".py",
   "mimetype": "text/x-python",
   "name": "python",
   "nbconvert_exporter": "python",
   "pygments_lexer": "ipython3",
   "version": "3.11.4"
  }
 },
 "nbformat": 4,
 "nbformat_minor": 5
}
