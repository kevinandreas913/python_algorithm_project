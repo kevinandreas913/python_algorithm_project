{
 "cells": [
  {
   "cell_type": "code",
   "execution_count": 1,
   "id": "995a0447",
   "metadata": {},
   "outputs": [],
   "source": [
    "import tensorflow as tf\n",
    "import numpy as np"
   ]
  },
  {
   "cell_type": "code",
   "execution_count": 2,
   "id": "4e9714e5",
   "metadata": {},
   "outputs": [
    {
     "name": "stdout",
     "output_type": "stream",
     "text": [
      "WARNING:tensorflow:From C:\\Users\\User\\AppData\\Local\\Temp\\ipykernel_13116\\266223301.py:1: The name tf.InteractiveSession is deprecated. Please use tf.compat.v1.InteractiveSession instead.\n",
      "\n"
     ]
    }
   ],
   "source": [
    "sess = tf.compat.v1.InteractiveSession()"
   ]
  },
  {
   "cell_type": "markdown",
   "id": "932b9b5a",
   "metadata": {},
   "source": [
    "# Definisi Pada Tensor"
   ]
  },
  {
   "cell_type": "code",
   "execution_count": 3,
   "id": "819852d3",
   "metadata": {},
   "outputs": [
    {
     "name": "stdout",
     "output_type": "stream",
     "text": [
      "hasil dari a adalah\n",
      "[[0. 0.]\n",
      " [0. 0.]]\n",
      "hasil dari b adalah \n",
      "[[1. 1.]\n",
      " [1. 1.]]\n"
     ]
    }
   ],
   "source": [
    "a = tf.zeros((2,2))\n",
    "b = tf.ones((2,2))\n",
    "\n",
    "print(f\"\"\"hasil dari a adalah\n",
    "{a}\"\"\")\n",
    "print(f\"\"\"hasil dari b adalah \n",
    "{b}\"\"\")"
   ]
  },
  {
   "cell_type": "markdown",
   "id": "41c9d8d2",
   "metadata": {},
   "source": [
    "# Menghitung Element Pada Tensor"
   ]
  },
  {
   "cell_type": "code",
   "execution_count": 4,
   "id": "ede30d16",
   "metadata": {},
   "outputs": [
    {
     "name": "stdout",
     "output_type": "stream",
     "text": [
      "tf.Tensor(\n",
      "[[1 1 1]\n",
      " [1 1 1]], shape=(2, 3), dtype=int32)\n"
     ]
    },
    {
     "data": {
      "text/plain": [
       "<tf.Tensor: shape=(), dtype=int32, numpy=6>"
      ]
     },
     "execution_count": 4,
     "metadata": {},
     "output_type": "execute_result"
    }
   ],
   "source": [
    "a = tf.constant([[1,1,1], [1,1,1]])\n",
    "\n",
    "print(a)\n",
    "\n",
    "# untuk menghitung element yang yang ada pada tensor sebagai berikut\n",
    "tf.reduce_sum(a)"
   ]
  },
  {
   "cell_type": "markdown",
   "id": "9de4be34",
   "metadata": {},
   "source": [
    "# Periksa Bentuk Pada Tensor"
   ]
  },
  {
   "cell_type": "code",
   "execution_count": 5,
   "id": "16d996f6",
   "metadata": {},
   "outputs": [
    {
     "data": {
      "text/plain": [
       "TensorShape([2, 3])"
      ]
     },
     "execution_count": 5,
     "metadata": {},
     "output_type": "execute_result"
    }
   ],
   "source": [
    "a = tf.constant([[1,1,1], [1,1,1]])\n",
    "\n",
    "a.get_shape()"
   ]
  },
  {
   "cell_type": "markdown",
   "id": "4645e3ac",
   "metadata": {},
   "source": [
    "# Bentuk Ulang Tensor"
   ]
  },
  {
   "cell_type": "code",
   "execution_count": 14,
   "id": "576f004f",
   "metadata": {},
   "outputs": [
    {
     "name": "stdout",
     "output_type": "stream",
     "text": [
      "tf.Tensor([[1 1 1 1 1 1]], shape=(1, 6), dtype=int32)\n"
     ]
    }
   ],
   "source": [
    "a = tf.constant([[1,1,1], [1,1,1]])\n",
    "new = (1, 6)\n",
    "a_baru = tf.reshape(a, new)\n",
    "\n",
    "print(a_baru)"
   ]
  },
  {
   "cell_type": "markdown",
   "id": "1eac5313",
   "metadata": {},
   "source": [
    "# Perbandingan Tensor dan Numpy"
   ]
  },
  {
   "cell_type": "code",
   "execution_count": 22,
   "id": "13d62c74",
   "metadata": {},
   "outputs": [
    {
     "name": "stdout",
     "output_type": "stream",
     "text": [
      "Ini adalah hasil tensor:\n",
      "[[0. 0.]\n",
      " [0. 0.]]\n",
      "Ini adalah hasil numpy:\n",
      "[[0. 0.]\n",
      " [0. 0.]]\n"
     ]
    }
   ],
   "source": [
    "tensor = tf.zeros((2,2))\n",
    "\n",
    "print(f\"\"\"Ini adalah hasil tensor:\n",
    "{tensor}\"\"\")\n",
    "\n",
    "numpy = np.zeros((2,2))\n",
    "\n",
    "print(f\"\"\"Ini adalah hasil numpy:\n",
    "{numpy}\"\"\")"
   ]
  },
  {
   "cell_type": "markdown",
   "id": "7cb5a0cd",
   "metadata": {},
   "source": [
    "# Operasi Matematika Dengan Tensor dan Numpy\n"
   ]
  },
  {
   "cell_type": "code",
   "execution_count": 23,
   "id": "5a794097",
   "metadata": {},
   "outputs": [
    {
     "name": "stdout",
     "output_type": "stream",
     "text": [
      "tf.Tensor(6, shape=(), dtype=int32)\n"
     ]
    }
   ],
   "source": [
    "tensor1 = tf.constant(2)\n",
    "tensor2 = tf.constant(3)\n",
    "\n",
    "print(tensor1*tensor2)"
   ]
  },
  {
   "cell_type": "code",
   "execution_count": null,
   "id": "eec50a69",
   "metadata": {},
   "outputs": [],
   "source": []
  }
 ],
 "metadata": {
  "kernelspec": {
   "display_name": "Python 3 (ipykernel)",
   "language": "python",
   "name": "python3"
  },
  "language_info": {
   "codemirror_mode": {
    "name": "ipython",
    "version": 3
   },
   "file_extension": ".py",
   "mimetype": "text/x-python",
   "name": "python",
   "nbconvert_exporter": "python",
   "pygments_lexer": "ipython3",
   "version": "3.11.4"
  }
 },
 "nbformat": 4,
 "nbformat_minor": 5
}
