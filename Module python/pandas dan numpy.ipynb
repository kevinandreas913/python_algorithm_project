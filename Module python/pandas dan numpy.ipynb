{
 "cells": [
  {
   "cell_type": "markdown",
   "id": "307e2d0a-5348-4d17-91bd-e92db48909c0",
   "metadata": {},
   "source": [
    "# DAFTAR ISI\n",
    "1. pembuatan dataframe pandas\n",
    "2. mengisi data pada dataframe\n",
    "3. menambah kolom pada dataframe\n",
    "4. set_index pada dataframe\n",
    "5. fungsi rename pada dataframe\n",
    "6. fungsi drop kolom pada dataframe\n",
    "7. matematika pertambahan antara kolom\n",
    "8. matematika pertambahan antar kolom dengan membentuk df diluar dataframe sebelumnya\n",
    "9. data biasa ke dataframe\n",
    "10. indexing in array|"
   ]
  },
  {
   "cell_type": "code",
   "execution_count": 1,
   "id": "c7b5ad45-3b2a-4663-b162-d7be615d1b46",
   "metadata": {},
   "outputs": [],
   "source": [
    "import numpy as np  \n",
    "import pandas as pd "
   ]
  },
  {
   "cell_type": "code",
   "execution_count": 2,
   "id": "2abe9e16-2857-487c-9aa8-be2d636c8244",
   "metadata": {},
   "outputs": [
    {
     "name": "stdout",
     "output_type": "stream",
     "text": [
      "Empty DataFrame\n",
      "Columns: [penjualan]\n",
      "Index: []\n"
     ]
    }
   ],
   "source": [
    "# pembuatan dataframe pandas\n",
    "data = pd.DataFrame(columns=['penjualan'])\n",
    "print(data)"
   ]
  },
  {
   "cell_type": "code",
   "execution_count": 3,
   "id": "5dd1177f-4eff-447c-be70-188c801f6525",
   "metadata": {},
   "outputs": [
    {
     "name": "stdout",
     "output_type": "stream",
     "text": [
      "   penjualan\n",
      "0        123\n",
      "1        234\n",
      "2        345\n",
      "3        456\n",
      "4        567\n",
      "5        678\n",
      "6        890\n"
     ]
    }
   ],
   "source": [
    "# mengisi data pada datarame\n",
    "data['penjualan'] = [123,\n",
    "                     234, \n",
    "                     345,\n",
    "                     456,\n",
    "                     567,\n",
    "                     678,\n",
    "                     890]\n",
    "print(data)"
   ]
  },
  {
   "cell_type": "code",
   "execution_count": 4,
   "id": "832f37fd-97bb-4fb2-b945-796d0f34da5b",
   "metadata": {},
   "outputs": [
    {
     "name": "stdout",
     "output_type": "stream",
     "text": [
      "   penjualan  pemakaian\n",
      "0        123       1232\n",
      "1        234       2342\n",
      "2        345       3452\n",
      "3        456       4562\n",
      "4        567       5672\n",
      "5        678       6782\n",
      "6        890       8902\n"
     ]
    }
   ],
   "source": [
    "# menambah kolom pada dataframe\n",
    "data['pemakaian'] = [1232,\n",
    "                     2342, \n",
    "                     3452,\n",
    "                     4562,\n",
    "                     5672,\n",
    "                     6782,\n",
    "                     8902]\n",
    "print(data)"
   ]
  },
  {
   "cell_type": "code",
   "execution_count": 5,
   "id": "0c02817d-1242-4186-a718-5e4e67143bc6",
   "metadata": {},
   "outputs": [
    {
     "name": "stdout",
     "output_type": "stream",
     "text": [
      "   penjualan  pemakaian  nomor\n",
      "0        123       1232      1\n",
      "1        234       2342      2\n",
      "2        345       3452      3\n",
      "3        456       4562      4\n",
      "4        567       5672      5\n",
      "5        678       6782      6\n",
      "6        890       8902      7\n"
     ]
    }
   ],
   "source": [
    "data['nomor'] = [1,\n",
    "                2,\n",
    "                3,\n",
    "                4,\n",
    "                5,\n",
    "                6,\n",
    "                7]\n",
    "print(data)"
   ]
  },
  {
   "cell_type": "code",
   "execution_count": 6,
   "id": "4778fa43-652a-4a93-bb26-0548ce2b4d49",
   "metadata": {},
   "outputs": [
    {
     "name": "stdout",
     "output_type": "stream",
     "text": [
      "       penjualan  pemakaian\n",
      "nomor                      \n",
      "1            123       1232\n",
      "2            234       2342\n",
      "3            345       3452\n",
      "4            456       4562\n",
      "5            567       5672\n",
      "6            678       6782\n",
      "7            890       8902\n"
     ]
    }
   ],
   "source": [
    "# set_index pada dataframe\n",
    "dataindex = data.set_index('nomor')\n",
    "print(dataindex)"
   ]
  },
  {
   "cell_type": "code",
   "execution_count": 7,
   "id": "1bfa4fa6-4ff8-49e1-9c5e-5a6e2c2c3920",
   "metadata": {},
   "outputs": [
    {
     "name": "stdout",
     "output_type": "stream",
     "text": [
      "       penjualan  pemakaian_rename\n",
      "nomor                             \n",
      "1            123              1232\n",
      "2            234              2342\n",
      "3            345              3452\n",
      "4            456              4562\n",
      "5            567              5672\n",
      "6            678              6782\n",
      "7            890              8902\n"
     ]
    }
   ],
   "source": [
    "# fungsi rename pada dataframe\n",
    "datarename = dataindex.rename(columns={\"pemakaian\":\"pemakaian_rename\"})\n",
    "print(datarename)"
   ]
  },
  {
   "cell_type": "code",
   "execution_count": 8,
   "id": "526ab8c1-2a65-4d04-8e73-925c9c66f7af",
   "metadata": {},
   "outputs": [
    {
     "name": "stdout",
     "output_type": "stream",
     "text": [
      "       penjualan\n",
      "nomor           \n",
      "1            123\n",
      "2            234\n",
      "3            345\n",
      "4            456\n",
      "5            567\n",
      "6            678\n",
      "7            890\n"
     ]
    }
   ],
   "source": [
    "# fungsi drop kolom pada dataframe\n",
    "datadrop = datarename.drop(\"pemakaian_rename\", axis=1)\n",
    "print(datadrop)"
   ]
  },
  {
   "cell_type": "code",
   "execution_count": 9,
   "id": "ff4c0212-3f7a-42ed-b481-7277689e8d89",
   "metadata": {},
   "outputs": [
    {
     "name": "stdout",
     "output_type": "stream",
     "text": [
      "   penjualan  pemakaian  nomor  newcolumn\n",
      "0        123       1232      1       1355\n",
      "1        234       2342      2       2576\n",
      "2        345       3452      3       3797\n",
      "3        456       4562      4       5018\n",
      "4        567       5672      5       6239\n",
      "5        678       6782      6       7460\n",
      "6        890       8902      7       9792\n"
     ]
    }
   ],
   "source": [
    "# matematika pertambahan antar kolom \n",
    "data['newcolumn'] = data[\"penjualan\"] + data[\"pemakaian\"]\n",
    "print(data)"
   ]
  },
  {
   "cell_type": "code",
   "execution_count": 10,
   "id": "79fa9207-bc7b-414d-a7db-1251765bb948",
   "metadata": {},
   "outputs": [
    {
     "name": "stdout",
     "output_type": "stream",
     "text": [
      "0    1355\n",
      "1    2576\n",
      "2    3797\n",
      "3    5018\n",
      "4    6239\n",
      "5    7460\n",
      "6    9792\n",
      "dtype: int64\n"
     ]
    }
   ],
   "source": [
    "# matematika pertambahan antar kolom dengan membentuk df diluar dataframe sebelumnya\n",
    "newcolumn = data[\"penjualan\"] + data[\"pemakaian\"]\n",
    "print(newcolumn)"
   ]
  },
  {
   "cell_type": "code",
   "execution_count": 11,
   "id": "d316962c-eef7-4ba2-95e4-bb4fd7703288",
   "metadata": {},
   "outputs": [
    {
     "name": "stdout",
     "output_type": "stream",
     "text": [
      "      0\n",
      "0  1355\n",
      "1  2576\n",
      "2  3797\n",
      "3  5018\n",
      "4  6239\n",
      "5  7460\n",
      "6  9792\n",
      "   hasil tambah\n",
      "0          1355\n",
      "1          2576\n",
      "2          3797\n",
      "3          5018\n",
      "4          6239\n",
      "5          7460\n",
      "6          9792\n"
     ]
    }
   ],
   "source": [
    "# konversi data biasa ke dataframe\n",
    "newcolumndf = pd.DataFrame(newcolumn)\n",
    "print(newcolumndf)\n",
    "newcolumnrename = newcolumndf.rename(columns={0:\"hasil tambah\"})\n",
    "print(newcolumnrename)"
   ]
  },
  {
   "cell_type": "markdown",
   "id": "e1cd7ca0-69d3-431a-9225-7dc02e5eca01",
   "metadata": {},
   "source": [
    "## list_name[start:end]\n",
    "- start: Indeks elemen pertama yang ingin diambil (inklusif). Jika dikosongkan, dimulai dari awal list.\n",
    "- end: Indeks elemen terakhir yang ingin diambil (eksklusif). Jika dikosongkan, sampai akhir list."
   ]
  },
  {
   "cell_type": "code",
   "execution_count": 12,
   "id": "2bcd5a1e-d8ea-4181-baa9-6170e6f7ad73",
   "metadata": {},
   "outputs": [
    {
     "name": "stdout",
     "output_type": "stream",
     "text": [
      "[123 234 345 456 567 678 890]\n"
     ]
    }
   ],
   "source": [
    "penjualan = data['penjualan'].values\n",
    "print(penjualan)"
   ]
  },
  {
   "cell_type": "code",
   "execution_count": 13,
   "id": "130e6e60-5be9-475d-a277-d92aeb71af85",
   "metadata": {},
   "outputs": [
    {
     "name": "stdout",
     "output_type": "stream",
     "text": [
      "123  = index ke  0\n",
      "234  = index ke  1\n",
      "345  = index ke  2\n",
      "456  = index ke  3\n",
      "567  = index ke  4\n",
      "678  = index ke  5\n",
      "890  = index ke  6\n"
     ]
    }
   ],
   "source": [
    "for i in range(len(penjualan)):\n",
    "    print(penjualan[i], \" = index ke \", i)"
   ]
  },
  {
   "cell_type": "code",
   "execution_count": 14,
   "id": "348e017e-6fbc-4103-bca0-ba8f25eda49d",
   "metadata": {},
   "outputs": [
    {
     "name": "stdout",
     "output_type": "stream",
     "text": [
      "[123 234 345 456]\n"
     ]
    }
   ],
   "source": [
    "data = penjualan[:-3] # mulai dari awal sampai data -3\n",
    "print(data)"
   ]
  },
  {
   "cell_type": "code",
   "execution_count": 15,
   "id": "531f70ea-261e-43a5-9a4a-14b158f200bd",
   "metadata": {},
   "outputs": [
    {
     "name": "stdout",
     "output_type": "stream",
     "text": [
      "[123 234 345]\n"
     ]
    }
   ],
   "source": [
    "data = penjualan[:3] # mulai dari awal sampai data ke 3\n",
    "print(data)"
   ]
  },
  {
   "cell_type": "code",
   "execution_count": 16,
   "id": "620cc204-71ad-4413-8ca0-18e5e0d03c0a",
   "metadata": {},
   "outputs": [
    {
     "name": "stdout",
     "output_type": "stream",
     "text": [
      "[567 678 890]\n"
     ]
    }
   ],
   "source": [
    "data = penjualan[-3:] # mulai dari data -3 belakang sampai akhir\n",
    "print(data)"
   ]
  },
  {
   "cell_type": "code",
   "execution_count": 17,
   "id": "1b84d83a-3031-4e9a-978d-2146686a44ac",
   "metadata": {},
   "outputs": [
    {
     "name": "stdout",
     "output_type": "stream",
     "text": [
      "[456 567 678 890]\n"
     ]
    }
   ],
   "source": [
    "data = penjualan[3:] # mulai dari data 3 sampai akhir\n",
    "print(data)"
   ]
  },
  {
   "cell_type": "code",
   "execution_count": 18,
   "id": "2903385f-d120-47ed-9335-8e666743adac",
   "metadata": {},
   "outputs": [
    {
     "name": "stdout",
     "output_type": "stream",
     "text": [
      "[345 456 567 678]\n"
     ]
    }
   ],
   "source": [
    "data = penjualan[2:-1] # mulai dari data 2 sampai data -1\n",
    "print(data)"
   ]
  },
  {
   "cell_type": "code",
   "execution_count": null,
   "id": "e32e8b31-5abc-423e-ae50-a137d49a7cd6",
   "metadata": {},
   "outputs": [],
   "source": []
  }
 ],
 "metadata": {
  "kernelspec": {
   "display_name": "Python 3 (ipykernel)",
   "language": "python",
   "name": "python3"
  },
  "language_info": {
   "codemirror_mode": {
    "name": "ipython",
    "version": 3
   },
   "file_extension": ".py",
   "mimetype": "text/x-python",
   "name": "python",
   "nbconvert_exporter": "python",
   "pygments_lexer": "ipython3",
   "version": "3.12.7"
  }
 },
 "nbformat": 4,
 "nbformat_minor": 5
}
