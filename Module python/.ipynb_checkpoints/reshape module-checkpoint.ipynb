{
 "cells": [
  {
   "cell_type": "markdown",
   "id": "fd010fdd-c2cf-48b6-9b1e-e4bfb89d92ed",
   "metadata": {},
   "source": [
    "# RESHAPE\n",
    "\n",
    "reshape = fungsi dalam Python yang digunakan untuk mengubah bentuk array tanpa mengubah datanya."
   ]
  },
  {
   "cell_type": "markdown",
   "id": "42333a04-de66-4f29-921f-88bad82f9d67",
   "metadata": {},
   "source": [
    "## reshape(a,b)\n",
    "### a = baris, b = kolom\n",
    "contoh:"
   ]
  },
  {
   "cell_type": "code",
   "execution_count": 1,
   "id": "4247f8b2-6a00-4e0f-af82-9a0521c52197",
   "metadata": {},
   "outputs": [],
   "source": [
    "import numpy as np\n",
    "x = [1, 2, 3, 4, 5, 6]\n",
    "x = np.array(x)"
   ]
  },
  {
   "cell_type": "code",
   "execution_count": 2,
   "id": "b62bba46-334c-4ce9-963c-9f3609dc434c",
   "metadata": {},
   "outputs": [
    {
     "name": "stdout",
     "output_type": "stream",
     "text": [
      "[[1 2 3]\n",
      " [4 5 6]]\n"
     ]
    }
   ],
   "source": [
    "x_reshape2d = x.reshape(2,3) #menjadi 2 baris dengan 3 data per baris.\n",
    "print(x_reshape2d)"
   ]
  },
  {
   "cell_type": "code",
   "execution_count": 3,
   "id": "f61340b2-816b-4e08-a947-fd19cc1f4577",
   "metadata": {},
   "outputs": [
    {
     "name": "stdout",
     "output_type": "stream",
     "text": [
      "[[1 2]\n",
      " [3 4]\n",
      " [5 6]]\n"
     ]
    }
   ],
   "source": [
    "x_reshape2d = x.reshape(3,2) #menjadi 3 baris dengan 2 data per baris.\n",
    "print(x_reshape2d)"
   ]
  },
  {
   "cell_type": "code",
   "execution_count": 4,
   "id": "d7b55b96-ebee-4c64-8e03-fc89e056274c",
   "metadata": {},
   "outputs": [
    {
     "name": "stdout",
     "output_type": "stream",
     "text": [
      "[[1]\n",
      " [2]\n",
      " [3]\n",
      " [4]\n",
      " [5]\n",
      " [6]]\n"
     ]
    }
   ],
   "source": [
    "x_reshape2d = x.reshape(-1,1) #tidak tahu ingin berapa baris dengan 1 data per baris\n",
    "print(x_reshape2d)"
   ]
  },
  {
   "cell_type": "code",
   "execution_count": 5,
   "id": "471ce895-4c86-48d2-8232-ab85398bdae0",
   "metadata": {},
   "outputs": [
    {
     "name": "stdout",
     "output_type": "stream",
     "text": [
      "[[1 2 3 4 5 6]]\n"
     ]
    }
   ],
   "source": [
    "x_reshape2d = x.reshape(1,-1) #ingin satu baris dengan memasukkan semua data kedalamnya\n",
    "print(x_reshape2d)"
   ]
  },
  {
   "cell_type": "code",
   "execution_count": 6,
   "id": "2a0de5ba-183d-4785-aaf7-2ce928d46f95",
   "metadata": {},
   "outputs": [
    {
     "name": "stdout",
     "output_type": "stream",
     "text": [
      "[1 2 3 4 5 6]\n"
     ]
    }
   ],
   "source": [
    "# kembalikan ke bentuk awal\n",
    "\n",
    "x_unreshape2d = x_reshape2d.reshape(-1) #kembali ke bentuk awal\n",
    "print(x_unreshape2d)"
   ]
  },
  {
   "cell_type": "markdown",
   "id": "12be526f-5fe7-47ef-bd34-d7523ef1f87a",
   "metadata": {},
   "source": [
    "## reshape(a,b,c)\n",
    "### a = kelompok, b = baris, c = kolom\n",
    "contoh:"
   ]
  },
  {
   "cell_type": "code",
   "execution_count": 7,
   "id": "910065ed-fc16-4637-ba40-ba83a55f5af4",
   "metadata": {},
   "outputs": [],
   "source": [
    "import numpy as np\n",
    "x = [1, 2, 3, 4, 5, 6, 7, 8, 9, 10, 11, 12]\n",
    "x = np.array(x)"
   ]
  },
  {
   "cell_type": "code",
   "execution_count": 8,
   "id": "3b99bfb2-39e7-4045-91e6-b17396bec229",
   "metadata": {},
   "outputs": [
    {
     "name": "stdout",
     "output_type": "stream",
     "text": [
      "[[[ 1  2]\n",
      "  [ 3  4]\n",
      "  [ 5  6]]\n",
      "\n",
      " [[ 7  8]\n",
      "  [ 9 10]\n",
      "  [11 12]]]\n"
     ]
    }
   ],
   "source": [
    "x_reshape3d = x.reshape(2, 3, 2)  #menjadi 2 kelompok dengan 3 baris dan 2 data disetiap baris\n",
    "print(x_reshape3d)"
   ]
  },
  {
   "cell_type": "code",
   "execution_count": 9,
   "id": "fb8bd793-f25f-4cf7-b719-b8f4296561ed",
   "metadata": {},
   "outputs": [
    {
     "name": "stdout",
     "output_type": "stream",
     "text": [
      "[[[ 1  2]\n",
      "  [ 3  4]]\n",
      "\n",
      " [[ 5  6]\n",
      "  [ 7  8]]\n",
      "\n",
      " [[ 9 10]\n",
      "  [11 12]]]\n"
     ]
    }
   ],
   "source": [
    "x_reshape3d = x.reshape(3, 2, -1)  #menjadi 3 kelompok dengan 2 baris dan terserah berapa data di setiap baris\n",
    "print(x_reshape3d)"
   ]
  },
  {
   "cell_type": "code",
   "execution_count": 10,
   "id": "51f78c20-e46f-4c56-a6f5-59dae150bc83",
   "metadata": {},
   "outputs": [
    {
     "name": "stdout",
     "output_type": "stream",
     "text": [
      "[[[ 1]\n",
      "  [ 2]\n",
      "  [ 3]]\n",
      "\n",
      " [[ 4]\n",
      "  [ 5]\n",
      "  [ 6]]\n",
      "\n",
      " [[ 7]\n",
      "  [ 8]\n",
      "  [ 9]]\n",
      "\n",
      " [[10]\n",
      "  [11]\n",
      "  [12]]]\n"
     ]
    }
   ],
   "source": [
    "x_reshape3d = x.reshape(4, 3, -1)  #menjadi 4 kelompok dengan 3 baris dan terserah berapa data di setiap baris\n",
    "print(x_reshape3d)"
   ]
  },
  {
   "cell_type": "code",
   "execution_count": 11,
   "id": "c57af140-b601-46fe-8f52-01f41a62a3cd",
   "metadata": {},
   "outputs": [
    {
     "name": "stdout",
     "output_type": "stream",
     "text": [
      "[ 1  2  3  4  5  6  7  8  9 10 11 12]\n"
     ]
    }
   ],
   "source": [
    "# kembalikan ke bentuk awal\n",
    "\n",
    "x_unreshape3d = x_reshape3d.reshape(-1) #kembali ke bentuk awal\n",
    "print(x_unreshape3d)"
   ]
  },
  {
   "cell_type": "markdown",
   "id": "d00ab1b4-5904-4c51-9a52-e669e6390809",
   "metadata": {},
   "source": [
    "# TERIMA KASIH"
   ]
  }
 ],
 "metadata": {
  "kernelspec": {
   "display_name": "Python 3 (ipykernel)",
   "language": "python",
   "name": "python3"
  },
  "language_info": {
   "codemirror_mode": {
    "name": "ipython",
    "version": 3
   },
   "file_extension": ".py",
   "mimetype": "text/x-python",
   "name": "python",
   "nbconvert_exporter": "python",
   "pygments_lexer": "ipython3",
   "version": "3.12.7"
  }
 },
 "nbformat": 4,
 "nbformat_minor": 5
}
