{
 "cells": [
  {
   "cell_type": "markdown",
   "id": "8189e835",
   "metadata": {},
   "source": [
    "# SARIMA"
   ]
  },
  {
   "cell_type": "markdown",
   "id": "d86abe33",
   "metadata": {},
   "source": [
    "Apakah kamu pernah mendengar tentang prediksi penjualan atau peramalan data? Bayangkan kamu adalah seorang pemilik toko yang ingin tahu berapa banyak barang yang harus dibeli untuk bulan depan agar tidak kehabisan stok. Bagaimana kamu bisa tahu? Di sinilah SARIMA datang membantu!\n",
    "\n",
    "SARIMA adalah singkatan dari Seasonal Autoregressive Integrated Moving Average. Ini adalah metode yang digunakan untuk memprediksi nilai di masa depan berdasarkan data yang sudah ada sebelumnya. SARIMA sangat bagus untuk data yang memiliki pola musiman, seperti penjualan bulanan.\n",
    "\n",
    "### Fungsi SARIMA\n",
    "Pikirkan SARIMA sebagai alat untuk menghitung dan menebak seberapa banyak barang yang akan terjual di bulan-bulan berikutnya. Berikut adalah langkah-langkah bagaimana SARIMA bekerja:\n",
    "1. Mempelajari Data Sebelumnya: SARIMA melihat data penjualan bulan-bulan sebelumnya untuk menemukan pola. Misalnya, jika kamu melihat bahwa penjualan selalu meningkat di bulan Desember karena Natal, SARIMA akan mencatat hal itu.\n",
    "2. Menghilangkan Tren dan Pola: Sebelum membuat prediksi, SARIMA bisa membantu menghilangkan tren yang tidak diinginkan (seperti penjualan yang selalu naik) dan pola musiman (seperti penjualan yang meningkat setiap akhir tahun).\n",
    "3. Membuat Prediksi: Setelah mempelajari data dan menghilangkan pola yang tidak perlu, SARIMA akan membuat prediksi untuk bulan-bulan berikutnya. Misalnya, setelah melihat data sebelumnya, SARIMA mungkin menyimpulkan bahwa pada bulan Januari, penjualan diperkirakan akan mencapai 500 unit.\n",
    "4. Mengukur Ketepatan: Setelah prediksi dilakukan, SARIMA bisa membandingkan hasil prediksinya dengan data asli untuk melihat seberapa akurat prediksinya. Jika akurat, itu berarti SARIMA melakukan pekerjaan dengan baik!"
   ]
  },
  {
   "cell_type": "code",
   "execution_count": 1,
   "id": "7b7a7008",
   "metadata": {},
   "outputs": [],
   "source": [
    "import numpy as np  \n",
    "import pandas as pd \n",
    "import matplotlib.pyplot as plt \n",
    "from statsmodels.tsa.statespace.sarimax import SARIMAX \n",
    "from statsmodels.tsa.stattools import adfuller \n",
    "from sklearn.metrics import mean_absolute_error, mean_squared_error"
   ]
  },
  {
   "cell_type": "markdown",
   "id": "e481d543",
   "metadata": {},
   "source": [
    "# 1. Penggunaan Data"
   ]
  },
  {
   "cell_type": "code",
   "execution_count": 2,
   "id": "54c38550",
   "metadata": {},
   "outputs": [
    {
     "data": {
      "text/html": [
       "<div>\n",
       "<style scoped>\n",
       "    .dataframe tbody tr th:only-of-type {\n",
       "        vertical-align: middle;\n",
       "    }\n",
       "\n",
       "    .dataframe tbody tr th {\n",
       "        vertical-align: top;\n",
       "    }\n",
       "\n",
       "    .dataframe thead th {\n",
       "        text-align: right;\n",
       "    }\n",
       "</style>\n",
       "<table border=\"1\" class=\"dataframe\">\n",
       "  <thead>\n",
       "    <tr style=\"text-align: right;\">\n",
       "      <th></th>\n",
       "      <th>date</th>\n",
       "      <th>money</th>\n",
       "    </tr>\n",
       "  </thead>\n",
       "  <tbody>\n",
       "    <tr>\n",
       "      <th>0</th>\n",
       "      <td>2024-03-01</td>\n",
       "      <td>38.70</td>\n",
       "    </tr>\n",
       "    <tr>\n",
       "      <th>1</th>\n",
       "      <td>2024-03-01</td>\n",
       "      <td>38.70</td>\n",
       "    </tr>\n",
       "    <tr>\n",
       "      <th>2</th>\n",
       "      <td>2024-03-01</td>\n",
       "      <td>38.70</td>\n",
       "    </tr>\n",
       "    <tr>\n",
       "      <th>3</th>\n",
       "      <td>2024-03-01</td>\n",
       "      <td>28.90</td>\n",
       "    </tr>\n",
       "    <tr>\n",
       "      <th>4</th>\n",
       "      <td>2024-03-01</td>\n",
       "      <td>38.70</td>\n",
       "    </tr>\n",
       "    <tr>\n",
       "      <th>...</th>\n",
       "      <td>...</td>\n",
       "      <td>...</td>\n",
       "    </tr>\n",
       "    <tr>\n",
       "      <th>2170</th>\n",
       "      <td>2024-10-31</td>\n",
       "      <td>35.76</td>\n",
       "    </tr>\n",
       "    <tr>\n",
       "      <th>2171</th>\n",
       "      <td>2024-10-31</td>\n",
       "      <td>35.76</td>\n",
       "    </tr>\n",
       "    <tr>\n",
       "      <th>2172</th>\n",
       "      <td>2024-10-31</td>\n",
       "      <td>30.86</td>\n",
       "    </tr>\n",
       "    <tr>\n",
       "      <th>2173</th>\n",
       "      <td>2024-10-31</td>\n",
       "      <td>35.76</td>\n",
       "    </tr>\n",
       "    <tr>\n",
       "      <th>2174</th>\n",
       "      <td>2024-10-31</td>\n",
       "      <td>30.86</td>\n",
       "    </tr>\n",
       "  </tbody>\n",
       "</table>\n",
       "<p>2175 rows × 2 columns</p>\n",
       "</div>"
      ],
      "text/plain": [
       "           date  money\n",
       "0    2024-03-01  38.70\n",
       "1    2024-03-01  38.70\n",
       "2    2024-03-01  38.70\n",
       "3    2024-03-01  28.90\n",
       "4    2024-03-01  38.70\n",
       "...         ...    ...\n",
       "2170 2024-10-31  35.76\n",
       "2171 2024-10-31  35.76\n",
       "2172 2024-10-31  30.86\n",
       "2173 2024-10-31  35.76\n",
       "2174 2024-10-31  30.86\n",
       "\n",
       "[2175 rows x 2 columns]"
      ]
     },
     "metadata": {},
     "output_type": "display_data"
    },
    {
     "name": "stdout",
     "output_type": "stream",
     "text": [
      "        date  money\n",
      "0 2024-03-01   38.7\n",
      "1 2024-03-01   38.7\n",
      "2 2024-03-01   38.7\n",
      "3 2024-03-01   28.9\n",
      "4 2024-03-01   38.7\n",
      "5 2024-03-01   33.8\n",
      "6 2024-03-01   38.7\n",
      "7 2024-03-01   33.8\n",
      "8 2024-03-01   38.7\n",
      "9 2024-03-01   33.8\n"
     ]
    }
   ],
   "source": [
    "try:\n",
    "    df = pd.read_csv(\"coffeshop.csv\", sep=\",\") \n",
    "    sales_data = df[['date', 'money']] \n",
    "    sales_data = pd.DataFrame(sales_data) \n",
    "    sales_data['date'] = pd.to_datetime(sales_data['date']) \n",
    "    display(sales_data)\n",
    "    print(sales_data.head(10))\n",
    "except FileNotFoundError:\n",
    "    print(\"Tidak dapat membaca\")"
   ]
  },
  {
   "cell_type": "code",
   "execution_count": 11,
   "id": "0b9b6aab",
   "metadata": {},
   "outputs": [
    {
     "name": "stdout",
     "output_type": "stream",
     "text": [
      "                money\n",
      "date                 \n",
      "2024-10-02  33.978182\n",
      "2024-10-03  33.922500\n",
      "2024-10-04  29.771111\n",
      "2024-10-05  29.226667\n",
      "2024-10-06  32.820000\n",
      "2024-10-07  33.310000\n",
      "2024-10-08  32.493333\n",
      "2024-10-09  30.451667\n",
      "2024-10-10  32.493333\n",
      "2024-10-11  32.179231\n",
      "2024-10-12  30.860000\n",
      "2024-10-13  30.315556\n",
      "2024-10-14  33.003750\n",
      "2024-10-15  32.221111\n",
      "2024-10-16  31.560000\n",
      "2024-10-17  34.593333\n",
      "2024-10-18  34.780000\n",
      "2024-10-19  35.215556\n",
      "2024-10-20  34.228750\n",
      "2024-10-21  32.407368\n",
      "2024-10-22  30.315556\n",
      "2024-10-23  31.990769\n",
      "2024-10-24  33.146667\n",
      "2024-10-25  31.513333\n",
      "2024-10-26  32.085000\n",
      "2024-10-27  33.800000\n",
      "2024-10-28  33.310000\n",
      "2024-10-29  32.765556\n",
      "2024-10-30  32.697500\n",
      "2024-10-31  33.800000\n"
     ]
    }
   ],
   "source": [
    "# kita ambil \"Order Date\" untuk dijadikan sebagai index\n",
    "df1 = sales_data.set_index('date') \n",
    "\n",
    "# coba ambil data bulanan menjadi sample dan kemudian kita hitung rata-rata setiap bulan\n",
    "penjualan_harian = df1.resample('D').mean() \n",
    "penjualan_harian = penjualan_harian.tail(30)\n",
    "\n",
    "print(penjualan_harian)"
   ]
  },
  {
   "cell_type": "markdown",
   "id": "8df5ab9c",
   "metadata": {},
   "source": [
    "# 2. Visualisasikan Data Bulanan Tersebut"
   ]
  },
  {
   "cell_type": "code",
   "execution_count": 4,
   "id": "0dff0758",
   "metadata": {},
   "outputs": [
    {
     "data": {
      "image/png": "[encoded data removed]",
      "text/plain": [
       "<Figure size 1600x600 with 1 Axes>"
      ]
     },
     "metadata": {},
     "output_type": "display_data"
    }
   ],
   "source": [
    "plt.figure(figsize=(16, 6)) \n",
    "plt.plot(penjualan_harian['money'], linewidth=3, c='black') \n",
    "plt.title(\"Daily Sales\") \n",
    "plt.xlabel(\"Date\") \n",
    "plt.ylabel(\"Sales\") \n",
    "plt.show()"
   ]
  },
  {
   "cell_type": "markdown",
   "id": "eb6a7849",
   "metadata": {},
   "source": [
    "# 3. Lakukan Uji Statistioner"
   ]
  },
  {
   "cell_type": "markdown",
   "id": "e4f61f83",
   "metadata": {},
   "source": [
    "Langkah ini untuk menguji apakah data sudah statistik atau belum:\n",
    "- Kalau datanya stasioner, artinya polanya tidak berubah terlalu banyak dari waktu ke waktu. Misalnya, penjualan naik atau turun tetapi rata-rata dan bentuk grafiknya tetap sama sepanjang waktu.\n",
    "- Kalau datanya tidak stasioner, maka grafiknya bisa naik terus, turun terus, atau punya pola yang berubah-ubah, misalnya lebih tinggi di bulan tertentu dan lebih rendah di bulan lainnya.\n",
    "\n",
    "Cara uji statistioner dapat dilakukan secara langsung dengan melihat grafiknya, tetapi ada juga penggunaan rumus untuk melihat apakah data sudah statistioner atau belum yaitu menggunakan teknik Augmented Dickey-Fuller (ADF).\n",
    "\n",
    "### Hasil Uji:\n",
    "\n",
    "Hasil uji menggunakan metode ADF sama seperti uji statistik, semakin ADF statictik jauh dari 0 maka data tersebut semakin stabil.\n",
    "\n",
    "Hasil uji tersebut terbagi menjadi:\n",
    "- jika p-value < 0,05 => data hasil uji stabil (Stationary)\n",
    "- jika p-value > 0,05 => data hasil uji tidak stabil (Non Stationeary)\n",
    "\n",
    "Selain itu, melihat dari data \"Staionary\" juga lebih baik. Nilai hasil \"Stationary\" harus lebih kecil dari nilai ADF, semakin kecil, menunjukkan data statisioner"
   ]
  },
  {
   "cell_type": "code",
   "execution_count": 5,
   "id": "18c92553",
   "metadata": {},
   "outputs": [
    {
     "name": "stdout",
     "output_type": "stream",
     "text": [
      "ADF Statistic: -3.4942436745312047\n",
      "p-value: 0.00813616523105117\n",
      "Statisioner: {'1%': -3.6790595944893187, '5%': -2.9678817237279103, '10%': -2.6231583472057074}\n",
      "Disimpulkan berdasarkan analsisi ADF, P-Value, dan statisioner maka, hasilnya adalah stasioner\n"
     ]
    }
   ],
   "source": [
    "def check_stationarity(timeseries): \n",
    "    result = adfuller(timeseries, autolag='AIC') \n",
    "    p_value = result[1]\n",
    "    print(f'ADF Statistic: {result[0]}') \n",
    "    print(f'p-value: {p_value}') \n",
    "    print(f'Statisioner: {result[4]}')\n",
    "    if p_value < 0.05:\n",
    "        Stasioner = 'stasioner'\n",
    "    else:\n",
    "        Stasioner = 'Non-stasioner'\n",
    "    print(f'Disimpulkan berdasarkan analsisi ADF, P-Value, dan statisioner maka, hasilnya adalah {Stasioner}' )\n",
    "    \n",
    "\n",
    "check_stationarity(penjualan_harian['money'])"
   ]
  },
  {
   "cell_type": "markdown",
   "id": "3f1e1de1",
   "metadata": {},
   "source": [
    "# 4. Tentukan Parameter SARIMA"
   ]
  },
  {
   "cell_type": "markdown",
   "id": "5593830e",
   "metadata": {},
   "source": [
    "## Pada SARIMA, kita mengenal:\n",
    "### p \n",
    "- p menunjukkan model akan \"menggunakan berapa data bulan ke belakang untuk memprediksi bulan depan\". Semakin besar p, semakin banyak bulan yang dilihat.\n",
    "\n",
    "### d \n",
    "- d adalah “differencing” untuk menghilangkan tren.\n",
    "- Bayangkan kamu punya data penjualan yang setiap bulan cenderung selalu naik terus menerus. d ini berfungsi untuk mengurangi atau menghilangkan tren kenaikan tersebut supaya datanya jadi lebih stabil dan tidak terlalu miring ke atas atau ke bawah.\n",
    "- Cara kerja: Misalnya, kalau d=1, kita mengurangi setiap nilai dengan nilai sebelumnya. Jadi, kalau bulan ini penjualannya naik dari bulan sebelumnya, kita cuma lihat selisihnya, bukan jumlah totalnya.\n",
    "- Gunanya: Untuk menghilangkan tren naik atau turun yang konsisten\n",
    "\n",
    "### q \n",
    "- q mirip dengan p, tetapi pada q melihat kesalahan model dari bulan-bulan sebelumnya, jadi kalau ada salah di satu bulan, model bisa belajar dari kesalahan itu.\n",
    "\n",
    "### P\n",
    "- memiliki fungsi yang sama dengan p, tetapi pada P melihat pola tahunan\n",
    "\n",
    "### D \n",
    "- D adalah “differencing” untuk menghilangkan pola musiman.\n",
    "- Ini bekerja pada pola yang berulang setiap musim. Misalnya, jika penjualan selalu naik di akhir tahun, itu adalah pola musiman tahunan.\n",
    "- D membantu menghilangkan pola berulang ini dengan membandingkan nilai saat ini dengan nilai yang sama di musim sebelumnya. Jika musimnya tahunan dan data bulanan, maka kita bandingkan nilai sekarang dengan nilai 12 bulan sebelumnya.\n",
    "- Contoh: Kalau D=1, kita akan melihat perbedaan nilai penjualan dengan nilai satu tahun sebelumnya (12 bulan lalu).\n",
    "\n",
    "### Q \n",
    "- Q mirip dengan q, tetapi pada Q melihat pola tahunan.\n",
    "\n",
    "### S\n",
    "- s adalah jumlah bulan dalam satu musim. Kalau data kamu bulanan dan pola musimnya tahunan, maka s=12."
   ]
  },
  {
   "cell_type": "code",
   "execution_count": 19,
   "id": "57221dae",
   "metadata": {},
   "outputs": [
    {
     "name": "stdout",
     "output_type": "stream",
     "text": [
      "                money\n",
      "date                 \n",
      "2024-10-02  33.978182\n",
      "2024-10-03  33.922500\n",
      "2024-10-04  29.771111\n",
      "2024-10-05  29.226667\n",
      "2024-10-06  32.820000\n",
      "2024-10-07  33.310000\n",
      "2024-10-08  32.493333\n",
      "2024-10-09  30.451667\n",
      "2024-10-10  32.493333\n",
      "2024-10-11  32.179231\n",
      "2024-10-12  30.860000\n",
      "2024-10-13  30.315556\n",
      "2024-10-14  33.003750\n",
      "2024-10-15  32.221111\n",
      "2024-10-16  31.560000\n",
      "2024-10-17  34.593333\n",
      "2024-10-18  34.780000\n",
      "2024-10-19  35.215556\n",
      "2024-10-20  34.228750\n",
      "2024-10-21  32.407368\n",
      "2024-10-22  30.315556\n",
      "2024-10-23  31.990769\n",
      "2024-10-24  33.146667\n",
      "2024-10-25  31.513333\n",
      "Performing stepwise search to minimize aic\n",
      " ARIMA(2,0,2)(1,0,1)[5] intercept   : AIC=94.066, Time=0.26 sec\n",
      " ARIMA(0,0,0)(0,0,0)[5] intercept   : AIC=94.907, Time=0.02 sec\n",
      " ARIMA(1,0,0)(1,0,0)[5] intercept   : AIC=95.070, Time=0.16 sec\n",
      " ARIMA(0,0,1)(0,0,1)[5] intercept   : AIC=inf, Time=0.09 sec\n",
      " ARIMA(0,0,0)(0,0,0)[5]             : AIC=237.070, Time=0.01 sec\n",
      " ARIMA(2,0,2)(0,0,1)[5] intercept   : AIC=93.714, Time=0.27 sec\n",
      " ARIMA(2,0,2)(0,0,0)[5] intercept   : AIC=94.804, Time=0.10 sec\n",
      " ARIMA(2,0,2)(0,0,2)[5] intercept   : AIC=93.847, Time=0.34 sec\n",
      " ARIMA(2,0,2)(1,0,0)[5] intercept   : AIC=100.116, Time=0.32 sec\n",
      " ARIMA(2,0,2)(1,0,2)[5] intercept   : AIC=95.923, Time=0.40 sec\n",
      " ARIMA(1,0,2)(0,0,1)[5] intercept   : AIC=inf, Time=0.15 sec\n",
      " ARIMA(2,0,1)(0,0,1)[5] intercept   : AIC=inf, Time=0.27 sec\n",
      " ARIMA(3,0,2)(0,0,1)[5] intercept   : AIC=94.581, Time=0.21 sec\n",
      " ARIMA(2,0,3)(0,0,1)[5] intercept   : AIC=inf, Time=0.27 sec\n",
      " ARIMA(1,0,1)(0,0,1)[5] intercept   : AIC=inf, Time=0.20 sec\n",
      " ARIMA(1,0,3)(0,0,1)[5] intercept   : AIC=inf, Time=0.21 sec\n",
      " ARIMA(3,0,1)(0,0,1)[5] intercept   : AIC=92.953, Time=0.23 sec\n",
      " ARIMA(3,0,1)(0,0,0)[5] intercept   : AIC=94.156, Time=0.09 sec\n",
      " ARIMA(3,0,1)(1,0,1)[5] intercept   : AIC=94.663, Time=0.20 sec\n",
      " ARIMA(3,0,1)(0,0,2)[5] intercept   : AIC=93.550, Time=0.25 sec\n",
      " ARIMA(3,0,1)(1,0,0)[5] intercept   : AIC=105.834, Time=0.24 sec\n",
      " ARIMA(3,0,1)(1,0,2)[5] intercept   : AIC=95.331, Time=0.34 sec\n",
      " ARIMA(3,0,0)(0,0,1)[5] intercept   : AIC=inf, Time=0.17 sec\n",
      " ARIMA(4,0,1)(0,0,1)[5] intercept   : AIC=94.684, Time=0.22 sec\n",
      " ARIMA(2,0,0)(0,0,1)[5] intercept   : AIC=inf, Time=0.13 sec\n",
      " ARIMA(4,0,0)(0,0,1)[5] intercept   : AIC=92.622, Time=0.19 sec\n",
      " ARIMA(4,0,0)(0,0,0)[5] intercept   : AIC=94.067, Time=0.11 sec\n",
      " ARIMA(4,0,0)(1,0,1)[5] intercept   : AIC=94.357, Time=0.28 sec\n",
      " ARIMA(4,0,0)(0,0,2)[5] intercept   : AIC=inf, Time=0.26 sec\n",
      " ARIMA(4,0,0)(1,0,0)[5] intercept   : AIC=96.031, Time=0.35 sec\n",
      " ARIMA(4,0,0)(1,0,2)[5] intercept   : AIC=95.915, Time=0.42 sec\n",
      " ARIMA(4,0,0)(0,0,1)[5]             : AIC=102.648, Time=0.24 sec\n",
      "\n",
      "Best model:  ARIMA(4,0,0)(0,0,1)[5] intercept\n",
      "Total fit time: 7.041 seconds\n",
      "                                      SARIMAX Results                                      \n",
      "===========================================================================================\n",
      "Dep. Variable:                                   y   No. Observations:                   24\n",
      "Model:             SARIMAX(4, 0, 0)x(0, 0, [1], 5)   Log Likelihood                 -39.311\n",
      "Date:                             Wed, 01 Jan 2025   AIC                             92.622\n",
      "Time:                                     21:26:32   BIC                            100.868\n",
      "Sample:                                 10-02-2024   HQIC                            94.810\n",
      "                                      - 10-25-2024                                         \n",
      "Covariance Type:                               opg                                         \n",
      "==============================================================================\n",
      "                 coef    std err          z      P>|z|      [0.025      0.975]\n",
      "------------------------------------------------------------------------------\n",
      "intercept     20.9431     15.292      1.370      0.171      -9.029      50.915\n",
      "ar.L1          0.6227      0.349      1.785      0.074      -0.061       1.307\n",
      "ar.L2         -0.5007      0.490     -1.021      0.307      -1.461       0.460\n",
      "ar.L3         -0.0073      0.325     -0.022      0.982      -0.644       0.629\n",
      "ar.L4          0.2381      0.290      0.821      0.412      -0.330       0.806\n",
      "ma.S.L5       -0.7982      1.086     -0.735      0.462      -2.927       1.330\n",
      "sigma2         1.3248      1.286      1.030      0.303      -1.195       3.845\n",
      "===================================================================================\n",
      "Ljung-Box (L1) (Q):                   0.01   Jarque-Bera (JB):                 0.19\n",
      "Prob(Q):                              0.93   Prob(JB):                         0.91\n",
      "Heteroskedasticity (H):               0.53   Skew:                            -0.04\n",
      "Prob(H) (two-sided):                  0.38   Kurtosis:                         2.58\n",
      "===================================================================================\n",
      "\n",
      "Warnings:\n",
      "[1] Covariance matrix calculated using the outer product of gradients (complex-step).\n"
     ]
    }
   ],
   "source": [
    "from pmdarima import auto_arima\n",
    "train_size = int(len(penjualan_harian) * 0.8)\n",
    "train = penjualan_harian[:train_size]  \n",
    "print(train)\n",
    "model_auto = auto_arima(train, seasonal=True, m=5, stepwise=True, trace=True)\n",
    "print(model_auto.summary())"
   ]
  },
  {
   "cell_type": "code",
   "execution_count": null,
   "id": "c5b8214b",
   "metadata": {},
   "outputs": [],
   "source": [
    "p, d, q = 1, 1, 1\n",
    "P, D, Q, s = 1, 1, 1, 12"
   ]
  },
  {
   "cell_type": "markdown",
   "id": "15f07d64",
   "metadata": {},
   "source": [
    "# 5. Latih Model SARIMA"
   ]
  },
  {
   "cell_type": "code",
   "execution_count": null,
   "id": "e368dc21",
   "metadata": {},
   "outputs": [],
   "source": [
    "model = SARIMAX(penjualan_harian, order=(p, d, q), seasonal_order=(P, D, Q, s)) \n",
    "results = model.fit()\n",
    "model"
   ]
  },
  {
   "cell_type": "markdown",
   "id": "024a8c7b",
   "metadata": {},
   "source": [
    "# 6. Prediksi Periode Mendatang dengan SARIMA"
   ]
  },
  {
   "cell_type": "code",
   "execution_count": null,
   "id": "1b926058",
   "metadata": {},
   "outputs": [],
   "source": [
    "Periode = 12 \n",
    "Prediksi = results.get_forecast(steps=Periode) \n",
    "Rata_Prediksi = Prediksi.predicted_mean \n",
    "Confiden_Interval_Prediksi = Prediksi.conf_int()\n",
    "print(\"Rata-rata Prediksi Harian:\")\n",
    "display(Rata_Prediksi)\n",
    "\n",
    "# Menampilkan interval kepercayaan untuk setiap prediksi\n",
    "print(\"\\nInterval Kepercayaan Prediksi (Lower, Upper):\")\n",
    "display(Confiden_Interval_Prediksi)"
   ]
  },
  {
   "cell_type": "markdown",
   "id": "617c95b4",
   "metadata": {},
   "source": [
    "## Hasil Prediksi Berdasarkan Kepercayaan Rata-Rata"
   ]
  },
  {
   "cell_type": "code",
   "execution_count": null,
   "id": "ff1dcdb3",
   "metadata": {},
   "outputs": [],
   "source": [
    "plt.figure(figsize=(12, 6)) \n",
    "plt.plot(penjualan_harian, label='Data Sebelumnya', color='black') \n",
    "plt.plot(Rata_Prediksi, label='Prediksi', color='red') \n",
    "plt.title(\"Sales Forecast\") \n",
    "plt.xlabel(\"Date\") \n",
    "plt.ylabel(\"Sales\") \n",
    "plt.legend() \n",
    "plt.show()"
   ]
  },
  {
   "cell_type": "markdown",
   "id": "f20795d4",
   "metadata": {},
   "source": [
    "## Hasil Prediksi Berdasarkan Maximum dan Minimum Prediksi"
   ]
  },
  {
   "cell_type": "code",
   "execution_count": null,
   "id": "152508b3",
   "metadata": {},
   "outputs": [],
   "source": [
    "plt.figure(figsize=(12, 6)) \n",
    "plt.plot(penjualan_harian, label='Data Sebelumnya', color='black') \n",
    "plt.plot(Rata_Prediksi, label='Prediksi', color='red') \n",
    "plt.fill_between(Confiden_Interval_Prediksi.index, Confiden_Interval_Prediksi.iloc[:, 0], Confiden_Interval_Prediksi.iloc[:, 1], color='pink') \n",
    "plt.title(\"Sales Forecast\") \n",
    "plt.xlabel(\"Date\") \n",
    "plt.ylabel(\"Sales\") \n",
    "plt.legend() \n",
    "plt.show()"
   ]
  },
  {
   "cell_type": "markdown",
   "id": "bd0780e9",
   "metadata": {},
   "source": [
    "# 7. Lakukan Uji MAE dan MSE"
   ]
  },
  {
   "cell_type": "markdown",
   "id": "e7bb25d6",
   "metadata": {},
   "source": [
    "Kita bandingkan data prediksi kita dengan data aktual yang yang kita berikan nama \"Data_sebelumnya\". Uji tersebut dilakukan dengan uji MAE dan MSE:\n",
    "### MAE menghitung rata-rata absolut dari error, mengukur deviasi prediksi dari nilai aktual tanpa memperhatikan arah deviasi. Uji MAE seperti:\n",
    "- Menebak tinggi teman, dan setelah itu kamu melihat seberapa jauh tebakan dari tinggi sebenarnya. Semua selisih ini dihitung, lalu kita ambil rata-ratanya.\n",
    "\n",
    "### MSE menghitung rata-rata dari error yang dikuadratkan, memperbesar error besar dan mengurangi pengaruh error kecil. Uji MSE seperti:\n",
    "- Sama seperti MAE tetapi pada MSE menggunakan teknik pengkuadratan seperti (100-10)^2. Sehingga MSE memprediksi kesalahan yang lebih serius, terutama jika ada satu prediksi yang sangat salah. \n",
    "\n"
   ]
  },
  {
   "cell_type": "code",
   "execution_count": null,
   "id": "45d75b34",
   "metadata": {},
   "outputs": [],
   "source": [
    "Data_sebelumnya = penjualan_harian[-Periode:] \n",
    "print(Data_sebelumnya)\n",
    "mae = mean_absolute_error(Data_sebelumnya, Rata_Prediksi) \n",
    "mse = mean_squared_error(Data_sebelumnya, Rata_Prediksi) \n",
    "print(f'MAE: {mae}') \n",
    "print(f'MSE: {mse}')"
   ]
  },
  {
   "cell_type": "markdown",
   "id": "bf3afa95",
   "metadata": {},
   "source": [
    "\n",
    "# 8. Lihat Uji dengan Kondisi Asli"
   ]
  },
  {
   "cell_type": "markdown",
   "id": "77bd592a",
   "metadata": {},
   "source": [
    "Pada kasus ini, gunakan data 12 tahun terakhir untuk memperdiksi kemudian kita lihat seberapa akurat prediksi tersebut dengan hasil asli.\n",
    "1. train_data untuk menyimpan data yang akan kita latih\n",
    "2. test_data untuk menyimpan data asli tersebut"
   ]
  },
  {
   "cell_type": "code",
   "execution_count": null,
   "id": "eb6f02a5",
   "metadata": {},
   "outputs": [],
   "source": [
    "train_data = penjualan_harian[:-12]\n",
    "test_data = penjualan_harian[-12:]\n",
    "\n",
    "model = SARIMAX(train_data, order=(p, d, q), seasonal_order=(P, D, Q, s))\n",
    "results = model.fit()\n",
    "\n",
    "forecast = results.get_forecast(steps=12)\n",
    "predicted_mean = forecast.predicted_mean\n",
    "confidence_interval = forecast.conf_int()\n",
    "\n",
    "print(\"\\nInterval Kepercayaan Prediksi (Lower, Upper):\")\n",
    "display(confidence_interval, predicted_mean)\n",
    "\n",
    "mae = mean_absolute_error(test_data, predicted_mean)\n",
    "mse = mean_squared_error(test_data, predicted_mean)\n",
    "print(f'MAE: {mae}')\n",
    "print(f'MSE: {mse}')\n",
    "\n",
    "plt.figure(figsize=(12, 10)) \n",
    "plt.plot(penjualan_harian, label='Data Sebelumnya', color='black') \n",
    "plt.plot(predicted_mean, label='Prediksi', color='red') \n",
    "plt.fill_between(confidence_interval.index, confidence_interval.iloc[:, 0], confidence_interval.iloc[:, 1], color='pink') \n",
    "plt.title(\"Sales Forecast\") \n",
    "plt.xlabel(\"Date\") \n",
    "plt.ylabel(\"Sales\") \n",
    "plt.legend() \n",
    "plt.show()"
   ]
  },
  {
   "cell_type": "code",
   "execution_count": null,
   "id": "3e3eb4ee",
   "metadata": {},
   "outputs": [],
   "source": []
  }
 ],
 "metadata": {
  "kernelspec": {
   "display_name": "Python 3 (ipykernel)",
   "language": "python",
   "name": "python3"
  },
  "language_info": {
   "codemirror_mode": {
    "name": "ipython",
    "version": 3
   },
   "file_extension": ".py",
   "mimetype": "text/x-python",
   "name": "python",
   "nbconvert_exporter": "python",
   "pygments_lexer": "ipython3",
   "version": "3.12.7"
  }
 },
 "nbformat": 4,
 "nbformat_minor": 5
}
