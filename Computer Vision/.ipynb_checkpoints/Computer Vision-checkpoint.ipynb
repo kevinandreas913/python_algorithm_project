{
 "cells": [
  {
   "cell_type": "code",
   "execution_count": 1,
   "id": "c07b67f2",
   "metadata": {},
   "outputs": [
    {
     "name": "stdout",
     "output_type": "stream",
     "text": [
      "4.6.0\n"
     ]
    }
   ],
   "source": [
    "import cv2 as cv\n",
    "print(cv.__version__)\n",
    "\n",
    "import os"
   ]
  },
  {
   "cell_type": "code",
   "execution_count": 2,
   "id": "1eba9840",
   "metadata": {},
   "outputs": [],
   "source": [
    "gambar = 'image/pemandangan.jpg'\n",
    "\n",
    "if not os.path.exists(gambar):\n",
    "    print(f\"Gambar tidak ditemukan di path: {gambar}\")\n",
    "else:\n",
    "    foto = cv.imread(gambar)\n",
    "    foto_gray = cv.cvtColor(foto, cv.COLOR_BGR2GRAY)\n",
    "    cv.imwrite('image/pemandangan_grey_converter.jpg', foto_gray)"
   ]
  },
  {
   "cell_type": "code",
   "execution_count": null,
   "id": "671b57ab",
   "metadata": {},
   "outputs": [],
   "source": [
    "cv.imshow(\"Foto\", foto_gray)\n",
    "cv.waitKey(0)\n",
    "cv.destroyAllWindows()"
   ]
  },
  {
   "cell_type": "code",
   "execution_count": 3,
   "id": "d2ac5139",
   "metadata": {},
   "outputs": [],
   "source": [
    "gambar = 'image/pemandangan_grey_converter.jpg'\n",
    "if not os.path.exists(gambar):\n",
    "    print(f\"Gambar tidak ditemukan di path: {gambar}\")\n",
    "else:\n",
    "    foto_grey = cv.imread(gambar)\n",
    "    foto_color = cv.applyColorMap(foto_grey, cv.COLORMAP_JET)\n",
    "    cv.imwrite('image/pemandangan_recolor_converter.jpg', foto_color)"
   ]
  },
  {
   "cell_type": "code",
   "execution_count": null,
   "id": "e023706c",
   "metadata": {},
   "outputs": [],
   "source": []
  }
 ],
 "metadata": {
  "kernelspec": {
   "display_name": "Python 3 (ipykernel)",
   "language": "python",
   "name": "python3"
  },
  "language_info": {
   "codemirror_mode": {
    "name": "ipython",
    "version": 3
   },
   "file_extension": ".py",
   "mimetype": "text/x-python",
   "name": "python",
   "nbconvert_exporter": "python",
   "pygments_lexer": "ipython3",
   "version": "3.11.4"
  }
 },
 "nbformat": 4,
 "nbformat_minor": 5
}
